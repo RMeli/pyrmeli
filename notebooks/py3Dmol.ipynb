{
 "cells": [
  {
   "cell_type": "markdown",
   "metadata": {},
   "source": [
    "# py3Dmol"
   ]
  },
  {
   "cell_type": "code",
   "execution_count": 1,
   "metadata": {},
   "outputs": [],
   "source": [
    "%load_ext autoreload\n",
    "%autoreload 2"
   ]
  },
  {
   "cell_type": "code",
   "execution_count": 2,
   "metadata": {},
   "outputs": [],
   "source": [
    "from rdkit import Chem"
   ]
  },
  {
   "cell_type": "code",
   "execution_count": 3,
   "metadata": {},
   "outputs": [],
   "source": [
    "from pyrmeli import rdkit as rmrdkit\n",
    "from pyrmeli import py3dmol as rmpy3dmol"
   ]
  },
  {
   "cell_type": "markdown",
   "metadata": {},
   "source": [
    "## Generate Data"
   ]
  },
  {
   "cell_type": "code",
   "execution_count": 11,
   "metadata": {},
   "outputs": [],
   "source": [
    "mol1 = Chem.MolFromSmiles('CC')\n",
    "cmol1, _ = rmrdkit.generate_conformers(mol1, numConfs=10)"
   ]
  },
  {
   "cell_type": "code",
   "execution_count": 12,
   "metadata": {},
   "outputs": [],
   "source": [
    "mol2 = Chem.MolFromSmiles('CCCO')\n",
    "cmol2, _ = rmrdkit.generate_conformers(mol2, numConfs=10)"
   ]
  },
  {
   "cell_type": "markdown",
   "metadata": {},
   "source": [
    "## Show Molecules"
   ]
  },
  {
   "cell_type": "code",
   "execution_count": 13,
   "metadata": {},
   "outputs": [
    {
     "data": {
      "application/3dmoljs_load.v0": "<div id=\"3dmolviewer_1631897693987155\"  style=\"position: relative; width: 640px; height: 480px\">\n        <p id=\"3dmolwarning_1631897693987155\" style=\"background-color:#ffcccc;color:black\">You appear to be running in JupyterLab (or JavaScript failed to load for some other reason).  You need to install the 3dmol extension: <br>\n        <tt>jupyter labextension install jupyterlab_3dmol</tt></p>\n        </div>\n<script>\n\nvar loadScriptAsync = function(uri){\n  return new Promise((resolve, reject) => {\n    var tag = document.createElement('script');\n    tag.src = uri;\n    tag.async = true;\n    tag.onload = () => {\n      resolve();\n    };\n  var firstScriptTag = document.getElementsByTagName('script')[0];\n  firstScriptTag.parentNode.insertBefore(tag, firstScriptTag);\n});\n};\n\nif(typeof $3Dmolpromise === 'undefined') {\n$3Dmolpromise = null;\n  $3Dmolpromise = loadScriptAsync('https://3dmol.org/build/3Dmol.js');\n}\n\nvar viewer_1631897693987155 = null;\nvar warn = document.getElementById(\"3dmolwarning_1631897693987155\");\nif(warn) {\n    warn.parentNode.removeChild(warn);\n}\n$3Dmolpromise.then(function() {\nviewer_1631897693987155 = $3Dmol.createViewer($(\"#3dmolviewer_1631897693987155\"),{backgroundColor:\"white\"});\nviewer_1631897693987155.zoomTo();\n\tviewer_1631897693987155.addModel(\"\\n     RDKit          3D\\n\\n  8  7  0  0  0  0  0  0  0  0999 V2000\\n   -0.7599   -0.0066   -0.0514 C   0  0  0  0  0  0  0  0  0  0  0  0\\n    0.7426   -0.0343    0.0029 C   0  0  0  0  0  0  0  0  0  0  0  0\\n   -1.1309   -0.1825    0.9865 H   0  0  0  0  0  0  0  0  0  0  0  0\\n   -1.0729    1.0195   -0.3235 H   0  0  0  0  0  0  0  0  0  0  0  0\\n   -1.2008   -0.7893   -0.6827 H   0  0  0  0  0  0  0  0  0  0  0  0\\n    1.0543    0.9020    0.5469 H   0  0  0  0  0  0  0  0  0  0  0  0\\n    1.2187    0.0222   -0.9868 H   0  0  0  0  0  0  0  0  0  0  0  0\\n    1.1488   -0.9310    0.5081 H   0  0  0  0  0  0  0  0  0  0  0  0\\n  1  2  1  0\\n  1  3  1  0\\n  1  4  1  0\\n  1  5  1  0\\n  2  6  1  0\\n  2  7  1  0\\n  2  8  1  0\\nM  END\\n\",\"mol\");\n\tviewer_1631897693987155.setStyle({\"stick\": {\"colorscheme\": \"lightgreyCarbon\"}});\n\tviewer_1631897693987155.zoomTo();\nviewer_1631897693987155.render();\n});\n</script>",
      "text/html": [
       "<div id=\"3dmolviewer_1631897693987155\"  style=\"position: relative; width: 640px; height: 480px\">\n",
       "        <p id=\"3dmolwarning_1631897693987155\" style=\"background-color:#ffcccc;color:black\">You appear to be running in JupyterLab (or JavaScript failed to load for some other reason).  You need to install the 3dmol extension: <br>\n",
       "        <tt>jupyter labextension install jupyterlab_3dmol</tt></p>\n",
       "        </div>\n",
       "<script>\n",
       "\n",
       "var loadScriptAsync = function(uri){\n",
       "  return new Promise((resolve, reject) => {\n",
       "    var tag = document.createElement('script');\n",
       "    tag.src = uri;\n",
       "    tag.async = true;\n",
       "    tag.onload = () => {\n",
       "      resolve();\n",
       "    };\n",
       "  var firstScriptTag = document.getElementsByTagName('script')[0];\n",
       "  firstScriptTag.parentNode.insertBefore(tag, firstScriptTag);\n",
       "});\n",
       "};\n",
       "\n",
       "if(typeof $3Dmolpromise === 'undefined') {\n",
       "$3Dmolpromise = null;\n",
       "  $3Dmolpromise = loadScriptAsync('https://3dmol.org/build/3Dmol.js');\n",
       "}\n",
       "\n",
       "var viewer_1631897693987155 = null;\n",
       "var warn = document.getElementById(\"3dmolwarning_1631897693987155\");\n",
       "if(warn) {\n",
       "    warn.parentNode.removeChild(warn);\n",
       "}\n",
       "$3Dmolpromise.then(function() {\n",
       "viewer_1631897693987155 = $3Dmol.createViewer($(\"#3dmolviewer_1631897693987155\"),{backgroundColor:\"white\"});\n",
       "viewer_1631897693987155.zoomTo();\n",
       "\tviewer_1631897693987155.addModel(\"\\n     RDKit          3D\\n\\n  8  7  0  0  0  0  0  0  0  0999 V2000\\n   -0.7599   -0.0066   -0.0514 C   0  0  0  0  0  0  0  0  0  0  0  0\\n    0.7426   -0.0343    0.0029 C   0  0  0  0  0  0  0  0  0  0  0  0\\n   -1.1309   -0.1825    0.9865 H   0  0  0  0  0  0  0  0  0  0  0  0\\n   -1.0729    1.0195   -0.3235 H   0  0  0  0  0  0  0  0  0  0  0  0\\n   -1.2008   -0.7893   -0.6827 H   0  0  0  0  0  0  0  0  0  0  0  0\\n    1.0543    0.9020    0.5469 H   0  0  0  0  0  0  0  0  0  0  0  0\\n    1.2187    0.0222   -0.9868 H   0  0  0  0  0  0  0  0  0  0  0  0\\n    1.1488   -0.9310    0.5081 H   0  0  0  0  0  0  0  0  0  0  0  0\\n  1  2  1  0\\n  1  3  1  0\\n  1  4  1  0\\n  1  5  1  0\\n  2  6  1  0\\n  2  7  1  0\\n  2  8  1  0\\nM  END\\n\",\"mol\");\n",
       "\tviewer_1631897693987155.setStyle({\"stick\": {\"colorscheme\": \"lightgreyCarbon\"}});\n",
       "\tviewer_1631897693987155.zoomTo();\n",
       "viewer_1631897693987155.render();\n",
       "});\n",
       "</script>"
      ]
     },
     "metadata": {},
     "output_type": "display_data"
    }
   ],
   "source": [
    "view = rmpy3dmol.show_mol(cmol1)\n",
    "view.show()"
   ]
  },
  {
   "cell_type": "code",
   "execution_count": 14,
   "metadata": {},
   "outputs": [
    {
     "data": {
      "application/3dmoljs_load.v0": "<div id=\"3dmolviewer_1631897694934406\"  style=\"position: relative; width: 640px; height: 480px\">\n        <p id=\"3dmolwarning_1631897694934406\" style=\"background-color:#ffcccc;color:black\">You appear to be running in JupyterLab (or JavaScript failed to load for some other reason).  You need to install the 3dmol extension: <br>\n        <tt>jupyter labextension install jupyterlab_3dmol</tt></p>\n        </div>\n<script>\n\nvar loadScriptAsync = function(uri){\n  return new Promise((resolve, reject) => {\n    var tag = document.createElement('script');\n    tag.src = uri;\n    tag.async = true;\n    tag.onload = () => {\n      resolve();\n    };\n  var firstScriptTag = document.getElementsByTagName('script')[0];\n  firstScriptTag.parentNode.insertBefore(tag, firstScriptTag);\n});\n};\n\nif(typeof $3Dmolpromise === 'undefined') {\n$3Dmolpromise = null;\n  $3Dmolpromise = loadScriptAsync('https://3dmol.org/build/3Dmol.js');\n}\n\nvar viewer_1631897694934406 = null;\nvar warn = document.getElementById(\"3dmolwarning_1631897694934406\");\nif(warn) {\n    warn.parentNode.removeChild(warn);\n}\n$3Dmolpromise.then(function() {\nviewer_1631897694934406 = $3Dmol.createViewer($(\"#3dmolviewer_1631897694934406\"),{backgroundColor:\"white\"});\nviewer_1631897694934406.zoomTo();\n\tviewer_1631897694934406.addModel(\"\\n     RDKit          3D\\n\\n  8  7  0  0  0  0  0  0  0  0999 V2000\\n   -0.7599   -0.0066   -0.0514 C   0  0  0  0  0  0  0  0  0  0  0  0\\n    0.7426   -0.0343    0.0029 C   0  0  0  0  0  0  0  0  0  0  0  0\\n   -1.1309   -0.1825    0.9865 H   0  0  0  0  0  0  0  0  0  0  0  0\\n   -1.0729    1.0195   -0.3235 H   0  0  0  0  0  0  0  0  0  0  0  0\\n   -1.2008   -0.7893   -0.6827 H   0  0  0  0  0  0  0  0  0  0  0  0\\n    1.0543    0.9020    0.5469 H   0  0  0  0  0  0  0  0  0  0  0  0\\n    1.2187    0.0222   -0.9868 H   0  0  0  0  0  0  0  0  0  0  0  0\\n    1.1488   -0.9310    0.5081 H   0  0  0  0  0  0  0  0  0  0  0  0\\n  1  2  1  0\\n  1  3  1  0\\n  1  4  1  0\\n  1  5  1  0\\n  2  6  1  0\\n  2  7  1  0\\n  2  8  1  0\\nM  END\\n\",\"mol\");\n\tviewer_1631897694934406.addModel(\"\\n     RDKit          3D\\n\\n  8  7  0  0  0  0  0  0  0  0999 V2000\\n   -0.7551   -0.0264   -0.0117 C   0  0  0  0  0  0  0  0  0  0  0  0\\n    0.7439   -0.0030    0.0404 C   0  0  0  0  0  0  0  0  0  0  0  0\\n   -1.2190   -0.3792    0.9444 H   0  0  0  0  0  0  0  0  0  0  0  0\\n   -1.1022    1.0352   -0.1155 H   0  0  0  0  0  0  0  0  0  0  0  0\\n   -1.1239   -0.6087   -0.8902 H   0  0  0  0  0  0  0  0  0  0  0  0\\n    1.1630    0.9662    0.3361 H   0  0  0  0  0  0  0  0  0  0  0  0\\n    1.1133   -0.2057   -1.0001 H   0  0  0  0  0  0  0  0  0  0  0  0\\n    1.1799   -0.7784    0.6964 H   0  0  0  0  0  0  0  0  0  0  0  0\\n  1  2  1  0\\n  1  3  1  0\\n  1  4  1  0\\n  1  5  1  0\\n  2  6  1  0\\n  2  7  1  0\\n  2  8  1  0\\nM  END\\n\",\"mol\");\n\tviewer_1631897694934406.setStyle({\"stick\": {\"colorscheme\": \"lightgreyCarbon\"}});\n\tviewer_1631897694934406.zoomTo();\nviewer_1631897694934406.render();\n});\n</script>",
      "text/html": [
       "<div id=\"3dmolviewer_1631897694934406\"  style=\"position: relative; width: 640px; height: 480px\">\n",
       "        <p id=\"3dmolwarning_1631897694934406\" style=\"background-color:#ffcccc;color:black\">You appear to be running in JupyterLab (or JavaScript failed to load for some other reason).  You need to install the 3dmol extension: <br>\n",
       "        <tt>jupyter labextension install jupyterlab_3dmol</tt></p>\n",
       "        </div>\n",
       "<script>\n",
       "\n",
       "var loadScriptAsync = function(uri){\n",
       "  return new Promise((resolve, reject) => {\n",
       "    var tag = document.createElement('script');\n",
       "    tag.src = uri;\n",
       "    tag.async = true;\n",
       "    tag.onload = () => {\n",
       "      resolve();\n",
       "    };\n",
       "  var firstScriptTag = document.getElementsByTagName('script')[0];\n",
       "  firstScriptTag.parentNode.insertBefore(tag, firstScriptTag);\n",
       "});\n",
       "};\n",
       "\n",
       "if(typeof $3Dmolpromise === 'undefined') {\n",
       "$3Dmolpromise = null;\n",
       "  $3Dmolpromise = loadScriptAsync('https://3dmol.org/build/3Dmol.js');\n",
       "}\n",
       "\n",
       "var viewer_1631897694934406 = null;\n",
       "var warn = document.getElementById(\"3dmolwarning_1631897694934406\");\n",
       "if(warn) {\n",
       "    warn.parentNode.removeChild(warn);\n",
       "}\n",
       "$3Dmolpromise.then(function() {\n",
       "viewer_1631897694934406 = $3Dmol.createViewer($(\"#3dmolviewer_1631897694934406\"),{backgroundColor:\"white\"});\n",
       "viewer_1631897694934406.zoomTo();\n",
       "\tviewer_1631897694934406.addModel(\"\\n     RDKit          3D\\n\\n  8  7  0  0  0  0  0  0  0  0999 V2000\\n   -0.7599   -0.0066   -0.0514 C   0  0  0  0  0  0  0  0  0  0  0  0\\n    0.7426   -0.0343    0.0029 C   0  0  0  0  0  0  0  0  0  0  0  0\\n   -1.1309   -0.1825    0.9865 H   0  0  0  0  0  0  0  0  0  0  0  0\\n   -1.0729    1.0195   -0.3235 H   0  0  0  0  0  0  0  0  0  0  0  0\\n   -1.2008   -0.7893   -0.6827 H   0  0  0  0  0  0  0  0  0  0  0  0\\n    1.0543    0.9020    0.5469 H   0  0  0  0  0  0  0  0  0  0  0  0\\n    1.2187    0.0222   -0.9868 H   0  0  0  0  0  0  0  0  0  0  0  0\\n    1.1488   -0.9310    0.5081 H   0  0  0  0  0  0  0  0  0  0  0  0\\n  1  2  1  0\\n  1  3  1  0\\n  1  4  1  0\\n  1  5  1  0\\n  2  6  1  0\\n  2  7  1  0\\n  2  8  1  0\\nM  END\\n\",\"mol\");\n",
       "\tviewer_1631897694934406.addModel(\"\\n     RDKit          3D\\n\\n  8  7  0  0  0  0  0  0  0  0999 V2000\\n   -0.7551   -0.0264   -0.0117 C   0  0  0  0  0  0  0  0  0  0  0  0\\n    0.7439   -0.0030    0.0404 C   0  0  0  0  0  0  0  0  0  0  0  0\\n   -1.2190   -0.3792    0.9444 H   0  0  0  0  0  0  0  0  0  0  0  0\\n   -1.1022    1.0352   -0.1155 H   0  0  0  0  0  0  0  0  0  0  0  0\\n   -1.1239   -0.6087   -0.8902 H   0  0  0  0  0  0  0  0  0  0  0  0\\n    1.1630    0.9662    0.3361 H   0  0  0  0  0  0  0  0  0  0  0  0\\n    1.1133   -0.2057   -1.0001 H   0  0  0  0  0  0  0  0  0  0  0  0\\n    1.1799   -0.7784    0.6964 H   0  0  0  0  0  0  0  0  0  0  0  0\\n  1  2  1  0\\n  1  3  1  0\\n  1  4  1  0\\n  1  5  1  0\\n  2  6  1  0\\n  2  7  1  0\\n  2  8  1  0\\nM  END\\n\",\"mol\");\n",
       "\tviewer_1631897694934406.setStyle({\"stick\": {\"colorscheme\": \"lightgreyCarbon\"}});\n",
       "\tviewer_1631897694934406.zoomTo();\n",
       "viewer_1631897694934406.render();\n",
       "});\n",
       "</script>"
      ]
     },
     "metadata": {},
     "output_type": "display_data"
    }
   ],
   "source": [
    "view = rmpy3dmol.show_mol(cmol1, confIds=[0,1])\n",
    "view.show()"
   ]
  },
  {
   "cell_type": "code",
   "execution_count": 10,
   "metadata": {},
   "outputs": [
    {
     "data": {
      "application/3dmoljs_load.v0": "<div id=\"3dmolviewer_16318976765709562\"  style=\"position: relative; width: 640px; height: 480px\">\n        <p id=\"3dmolwarning_16318976765709562\" style=\"background-color:#ffcccc;color:black\">You appear to be running in JupyterLab (or JavaScript failed to load for some other reason).  You need to install the 3dmol extension: <br>\n        <tt>jupyter labextension install jupyterlab_3dmol</tt></p>\n        </div>\n<script>\n\nvar loadScriptAsync = function(uri){\n  return new Promise((resolve, reject) => {\n    var tag = document.createElement('script');\n    tag.src = uri;\n    tag.async = true;\n    tag.onload = () => {\n      resolve();\n    };\n  var firstScriptTag = document.getElementsByTagName('script')[0];\n  firstScriptTag.parentNode.insertBefore(tag, firstScriptTag);\n});\n};\n\nif(typeof $3Dmolpromise === 'undefined') {\n$3Dmolpromise = null;\n  $3Dmolpromise = loadScriptAsync('https://3dmol.org/build/3Dmol.js');\n}\n\nvar viewer_16318976765709562 = null;\nvar warn = document.getElementById(\"3dmolwarning_16318976765709562\");\nif(warn) {\n    warn.parentNode.removeChild(warn);\n}\n$3Dmolpromise.then(function() {\nviewer_16318976765709562 = $3Dmol.createViewer($(\"#3dmolviewer_16318976765709562\"),{backgroundColor:\"white\"});\nviewer_16318976765709562.zoomTo();\n\tviewer_16318976765709562.addModel(\"\\n     RDKit          3D\\n\\n 20 19  0  0  0  0  0  0  0  0999 V2000\\n    3.0638    0.3631    0.1596 C   0  0  0  0  0  0  0  0  0  0  0  0\\n    1.8665   -0.5861    0.1521 C   0  0  0  0  0  0  0  0  0  0  0  0\\n    0.6401    0.2726    0.0038 C   0  0  0  0  0  0  0  0  0  0  0  0\\n   -0.6389   -0.5192   -0.0212 C   0  0  0  0  0  0  0  0  0  0  0  0\\n   -1.7756    0.4668   -0.1732 C   0  0  0  0  0  0  0  0  0  0  0  0\\n   -3.1188   -0.1907   -0.2128 C   0  0  0  0  0  0  0  0  0  0  0  0\\n    3.1749    0.7051   -0.9034 H   0  0  0  0  0  0  0  0  0  0  0  0\\n    3.9847   -0.1237    0.4939 H   0  0  0  0  0  0  0  0  0  0  0  0\\n    2.7627    1.2465    0.7342 H   0  0  0  0  0  0  0  0  0  0  0  0\\n    1.9775   -1.3119   -0.6616 H   0  0  0  0  0  0  0  0  0  0  0  0\\n    1.8429   -1.0856    1.1581 H   0  0  0  0  0  0  0  0  0  0  0  0\\n    0.7164    0.8314   -0.9555 H   0  0  0  0  0  0  0  0  0  0  0  0\\n    0.6355    0.9936    0.8525 H   0  0  0  0  0  0  0  0  0  0  0  0\\n   -0.7617   -1.1959    0.8230 H   0  0  0  0  0  0  0  0  0  0  0  0\\n   -0.6121   -1.1628   -0.9459 H   0  0  0  0  0  0  0  0  0  0  0  0\\n   -1.7057    1.1699    0.6976 H   0  0  0  0  0  0  0  0  0  0  0  0\\n   -1.5817    1.0310   -1.1202 H   0  0  0  0  0  0  0  0  0  0  0  0\\n   -3.1229   -1.2329    0.1178 H   0  0  0  0  0  0  0  0  0  0  0  0\\n   -3.8199    0.4430    0.4038 H   0  0  0  0  0  0  0  0  0  0  0  0\\n   -3.5278   -0.1142   -1.2535 H   0  0  0  0  0  0  0  0  0  0  0  0\\n  1  2  1  0\\n  2  3  1  0\\n  3  4  1  0\\n  4  5  1  0\\n  5  6  1  0\\n  1  7  1  0\\n  1  8  1  0\\n  1  9  1  0\\n  2 10  1  0\\n  2 11  1  0\\n  3 12  1  0\\n  3 13  1  0\\n  4 14  1  0\\n  4 15  1  0\\n  5 16  1  0\\n  5 17  1  0\\n  6 18  1  0\\n  6 19  1  0\\n  6 20  1  0\\nM  END\\n\",\"mol\");\n\tviewer_16318976765709562.addModel(\"\\n     RDKit          3D\\n\\n 20 19  0  0  0  0  0  0  0  0999 V2000\\n    2.6491    0.0913   -0.1870 C   0  0  0  0  0  0  0  0  0  0  0  0\\n    1.6579   -0.1571    0.9209 C   0  0  0  0  0  0  0  0  0  0  0  0\\n    0.2846    0.3448    0.5909 C   0  0  0  0  0  0  0  0  0  0  0  0\\n   -0.2444   -0.3337   -0.6391 C   0  0  0  0  0  0  0  0  0  0  0  0\\n   -1.6290    0.1642   -0.9820 C   0  0  0  0  0  0  0  0  0  0  0  0\\n   -2.6344   -0.0700    0.0919 C   0  0  0  0  0  0  0  0  0  0  0  0\\n    2.4939    1.0801   -0.6652 H   0  0  0  0  0  0  0  0  0  0  0  0\\n    2.5559   -0.7491   -0.9342 H   0  0  0  0  0  0  0  0  0  0  0  0\\n    3.6735   -0.0115    0.2347 H   0  0  0  0  0  0  0  0  0  0  0  0\\n    1.5945   -1.2288    1.1391 H   0  0  0  0  0  0  0  0  0  0  0  0\\n    2.0255    0.3831    1.8128 H   0  0  0  0  0  0  0  0  0  0  0  0\\n    0.2384    1.4514    0.5061 H   0  0  0  0  0  0  0  0  0  0  0  0\\n   -0.3789    0.0776    1.4407 H   0  0  0  0  0  0  0  0  0  0  0  0\\n   -0.2382   -1.4118   -0.5058 H   0  0  0  0  0  0  0  0  0  0  0  0\\n    0.4148   -0.0566   -1.4851 H   0  0  0  0  0  0  0  0  0  0  0  0\\n   -1.6383    1.2228   -1.2765 H   0  0  0  0  0  0  0  0  0  0  0  0\\n   -1.9567   -0.4190   -1.8824 H   0  0  0  0  0  0  0  0  0  0  0  0\\n   -3.5052   -0.6868   -0.2658 H   0  0  0  0  0  0  0  0  0  0  0  0\\n   -2.2548   -0.5818    0.9853 H   0  0  0  0  0  0  0  0  0  0  0  0\\n   -3.1082    0.8910    0.4498 H   0  0  0  0  0  0  0  0  0  0  0  0\\n  1  2  1  0\\n  2  3  1  0\\n  3  4  1  0\\n  4  5  1  0\\n  5  6  1  0\\n  1  7  1  0\\n  1  8  1  0\\n  1  9  1  0\\n  2 10  1  0\\n  2 11  1  0\\n  3 12  1  0\\n  3 13  1  0\\n  4 14  1  0\\n  4 15  1  0\\n  5 16  1  0\\n  5 17  1  0\\n  6 18  1  0\\n  6 19  1  0\\n  6 20  1  0\\nM  END\\n\",\"mol\");\n\tviewer_16318976765709562.setStyle({\"stick\": {\"colorscheme\": \"lightgreyCarbon\"}});\n\tviewer_16318976765709562.zoomTo();\n\tviewer_16318976765709562.addModel(\"\\n     RDKit          3D\\n\\n 12 11  0  0  0  0  0  0  0  0999 V2000\\n   -1.2853   -0.0568    0.4347 C   0  0  0  0  0  0  0  0  0  0  0  0\\n   -0.1754    0.6958   -0.2999 C   0  0  0  0  0  0  0  0  0  0  0  0\\n    0.9184   -0.3426   -0.5556 C   0  0  0  0  0  0  0  0  0  0  0  0\\n    1.3094   -0.8015    0.7171 O   0  0  0  0  0  0  0  0  0  0  0  0\\n   -1.9234    0.6262    0.9950 H   0  0  0  0  0  0  0  0  0  0  0  0\\n   -0.8502   -0.8517    1.0846 H   0  0  0  0  0  0  0  0  0  0  0  0\\n   -1.8312   -0.6183   -0.3709 H   0  0  0  0  0  0  0  0  0  0  0  0\\n   -0.5092    1.1219   -1.2454 H   0  0  0  0  0  0  0  0  0  0  0  0\\n    0.2161    1.4728    0.4098 H   0  0  0  0  0  0  0  0  0  0  0  0\\n    0.4395   -1.2039   -1.0868 H   0  0  0  0  0  0  0  0  0  0  0  0\\n    1.7445    0.0563   -1.1402 H   0  0  0  0  0  0  0  0  0  0  0  0\\n    1.9470   -0.0983    1.0576 H   0  0  0  0  0  0  0  0  0  0  0  0\\n  1  2  1  0\\n  2  3  1  0\\n  3  4  1  0\\n  1  5  1  0\\n  1  6  1  0\\n  1  7  1  0\\n  2  8  1  0\\n  2  9  1  0\\n  3 10  1  0\\n  3 11  1  0\\n  4 12  1  0\\nM  END\\n\",\"mol\");\n\tviewer_16318976765709562.setStyle({\"stick\": {\"colorscheme\": \"pinkCarbon\"}});\n\tviewer_16318976765709562.zoomTo();\nviewer_16318976765709562.render();\n});\n</script>",
      "text/html": [
       "<div id=\"3dmolviewer_16318976765709562\"  style=\"position: relative; width: 640px; height: 480px\">\n",
       "        <p id=\"3dmolwarning_16318976765709562\" style=\"background-color:#ffcccc;color:black\">You appear to be running in JupyterLab (or JavaScript failed to load for some other reason).  You need to install the 3dmol extension: <br>\n",
       "        <tt>jupyter labextension install jupyterlab_3dmol</tt></p>\n",
       "        </div>\n",
       "<script>\n",
       "\n",
       "var loadScriptAsync = function(uri){\n",
       "  return new Promise((resolve, reject) => {\n",
       "    var tag = document.createElement('script');\n",
       "    tag.src = uri;\n",
       "    tag.async = true;\n",
       "    tag.onload = () => {\n",
       "      resolve();\n",
       "    };\n",
       "  var firstScriptTag = document.getElementsByTagName('script')[0];\n",
       "  firstScriptTag.parentNode.insertBefore(tag, firstScriptTag);\n",
       "});\n",
       "};\n",
       "\n",
       "if(typeof $3Dmolpromise === 'undefined') {\n",
       "$3Dmolpromise = null;\n",
       "  $3Dmolpromise = loadScriptAsync('https://3dmol.org/build/3Dmol.js');\n",
       "}\n",
       "\n",
       "var viewer_16318976765709562 = null;\n",
       "var warn = document.getElementById(\"3dmolwarning_16318976765709562\");\n",
       "if(warn) {\n",
       "    warn.parentNode.removeChild(warn);\n",
       "}\n",
       "$3Dmolpromise.then(function() {\n",
       "viewer_16318976765709562 = $3Dmol.createViewer($(\"#3dmolviewer_16318976765709562\"),{backgroundColor:\"white\"});\n",
       "viewer_16318976765709562.zoomTo();\n",
       "\tviewer_16318976765709562.addModel(\"\\n     RDKit          3D\\n\\n 20 19  0  0  0  0  0  0  0  0999 V2000\\n    3.0638    0.3631    0.1596 C   0  0  0  0  0  0  0  0  0  0  0  0\\n    1.8665   -0.5861    0.1521 C   0  0  0  0  0  0  0  0  0  0  0  0\\n    0.6401    0.2726    0.0038 C   0  0  0  0  0  0  0  0  0  0  0  0\\n   -0.6389   -0.5192   -0.0212 C   0  0  0  0  0  0  0  0  0  0  0  0\\n   -1.7756    0.4668   -0.1732 C   0  0  0  0  0  0  0  0  0  0  0  0\\n   -3.1188   -0.1907   -0.2128 C   0  0  0  0  0  0  0  0  0  0  0  0\\n    3.1749    0.7051   -0.9034 H   0  0  0  0  0  0  0  0  0  0  0  0\\n    3.9847   -0.1237    0.4939 H   0  0  0  0  0  0  0  0  0  0  0  0\\n    2.7627    1.2465    0.7342 H   0  0  0  0  0  0  0  0  0  0  0  0\\n    1.9775   -1.3119   -0.6616 H   0  0  0  0  0  0  0  0  0  0  0  0\\n    1.8429   -1.0856    1.1581 H   0  0  0  0  0  0  0  0  0  0  0  0\\n    0.7164    0.8314   -0.9555 H   0  0  0  0  0  0  0  0  0  0  0  0\\n    0.6355    0.9936    0.8525 H   0  0  0  0  0  0  0  0  0  0  0  0\\n   -0.7617   -1.1959    0.8230 H   0  0  0  0  0  0  0  0  0  0  0  0\\n   -0.6121   -1.1628   -0.9459 H   0  0  0  0  0  0  0  0  0  0  0  0\\n   -1.7057    1.1699    0.6976 H   0  0  0  0  0  0  0  0  0  0  0  0\\n   -1.5817    1.0310   -1.1202 H   0  0  0  0  0  0  0  0  0  0  0  0\\n   -3.1229   -1.2329    0.1178 H   0  0  0  0  0  0  0  0  0  0  0  0\\n   -3.8199    0.4430    0.4038 H   0  0  0  0  0  0  0  0  0  0  0  0\\n   -3.5278   -0.1142   -1.2535 H   0  0  0  0  0  0  0  0  0  0  0  0\\n  1  2  1  0\\n  2  3  1  0\\n  3  4  1  0\\n  4  5  1  0\\n  5  6  1  0\\n  1  7  1  0\\n  1  8  1  0\\n  1  9  1  0\\n  2 10  1  0\\n  2 11  1  0\\n  3 12  1  0\\n  3 13  1  0\\n  4 14  1  0\\n  4 15  1  0\\n  5 16  1  0\\n  5 17  1  0\\n  6 18  1  0\\n  6 19  1  0\\n  6 20  1  0\\nM  END\\n\",\"mol\");\n",
       "\tviewer_16318976765709562.addModel(\"\\n     RDKit          3D\\n\\n 20 19  0  0  0  0  0  0  0  0999 V2000\\n    2.6491    0.0913   -0.1870 C   0  0  0  0  0  0  0  0  0  0  0  0\\n    1.6579   -0.1571    0.9209 C   0  0  0  0  0  0  0  0  0  0  0  0\\n    0.2846    0.3448    0.5909 C   0  0  0  0  0  0  0  0  0  0  0  0\\n   -0.2444   -0.3337   -0.6391 C   0  0  0  0  0  0  0  0  0  0  0  0\\n   -1.6290    0.1642   -0.9820 C   0  0  0  0  0  0  0  0  0  0  0  0\\n   -2.6344   -0.0700    0.0919 C   0  0  0  0  0  0  0  0  0  0  0  0\\n    2.4939    1.0801   -0.6652 H   0  0  0  0  0  0  0  0  0  0  0  0\\n    2.5559   -0.7491   -0.9342 H   0  0  0  0  0  0  0  0  0  0  0  0\\n    3.6735   -0.0115    0.2347 H   0  0  0  0  0  0  0  0  0  0  0  0\\n    1.5945   -1.2288    1.1391 H   0  0  0  0  0  0  0  0  0  0  0  0\\n    2.0255    0.3831    1.8128 H   0  0  0  0  0  0  0  0  0  0  0  0\\n    0.2384    1.4514    0.5061 H   0  0  0  0  0  0  0  0  0  0  0  0\\n   -0.3789    0.0776    1.4407 H   0  0  0  0  0  0  0  0  0  0  0  0\\n   -0.2382   -1.4118   -0.5058 H   0  0  0  0  0  0  0  0  0  0  0  0\\n    0.4148   -0.0566   -1.4851 H   0  0  0  0  0  0  0  0  0  0  0  0\\n   -1.6383    1.2228   -1.2765 H   0  0  0  0  0  0  0  0  0  0  0  0\\n   -1.9567   -0.4190   -1.8824 H   0  0  0  0  0  0  0  0  0  0  0  0\\n   -3.5052   -0.6868   -0.2658 H   0  0  0  0  0  0  0  0  0  0  0  0\\n   -2.2548   -0.5818    0.9853 H   0  0  0  0  0  0  0  0  0  0  0  0\\n   -3.1082    0.8910    0.4498 H   0  0  0  0  0  0  0  0  0  0  0  0\\n  1  2  1  0\\n  2  3  1  0\\n  3  4  1  0\\n  4  5  1  0\\n  5  6  1  0\\n  1  7  1  0\\n  1  8  1  0\\n  1  9  1  0\\n  2 10  1  0\\n  2 11  1  0\\n  3 12  1  0\\n  3 13  1  0\\n  4 14  1  0\\n  4 15  1  0\\n  5 16  1  0\\n  5 17  1  0\\n  6 18  1  0\\n  6 19  1  0\\n  6 20  1  0\\nM  END\\n\",\"mol\");\n",
       "\tviewer_16318976765709562.setStyle({\"stick\": {\"colorscheme\": \"lightgreyCarbon\"}});\n",
       "\tviewer_16318976765709562.zoomTo();\n",
       "\tviewer_16318976765709562.addModel(\"\\n     RDKit          3D\\n\\n 12 11  0  0  0  0  0  0  0  0999 V2000\\n   -1.2853   -0.0568    0.4347 C   0  0  0  0  0  0  0  0  0  0  0  0\\n   -0.1754    0.6958   -0.2999 C   0  0  0  0  0  0  0  0  0  0  0  0\\n    0.9184   -0.3426   -0.5556 C   0  0  0  0  0  0  0  0  0  0  0  0\\n    1.3094   -0.8015    0.7171 O   0  0  0  0  0  0  0  0  0  0  0  0\\n   -1.9234    0.6262    0.9950 H   0  0  0  0  0  0  0  0  0  0  0  0\\n   -0.8502   -0.8517    1.0846 H   0  0  0  0  0  0  0  0  0  0  0  0\\n   -1.8312   -0.6183   -0.3709 H   0  0  0  0  0  0  0  0  0  0  0  0\\n   -0.5092    1.1219   -1.2454 H   0  0  0  0  0  0  0  0  0  0  0  0\\n    0.2161    1.4728    0.4098 H   0  0  0  0  0  0  0  0  0  0  0  0\\n    0.4395   -1.2039   -1.0868 H   0  0  0  0  0  0  0  0  0  0  0  0\\n    1.7445    0.0563   -1.1402 H   0  0  0  0  0  0  0  0  0  0  0  0\\n    1.9470   -0.0983    1.0576 H   0  0  0  0  0  0  0  0  0  0  0  0\\n  1  2  1  0\\n  2  3  1  0\\n  3  4  1  0\\n  1  5  1  0\\n  1  6  1  0\\n  1  7  1  0\\n  2  8  1  0\\n  2  9  1  0\\n  3 10  1  0\\n  3 11  1  0\\n  4 12  1  0\\nM  END\\n\",\"mol\");\n",
       "\tviewer_16318976765709562.setStyle({\"stick\": {\"colorscheme\": \"pinkCarbon\"}});\n",
       "\tviewer_16318976765709562.zoomTo();\n",
       "viewer_16318976765709562.render();\n",
       "});\n",
       "</script>"
      ]
     },
     "metadata": {},
     "output_type": "display_data"
    }
   ],
   "source": [
    "view = rmpy3dmol.show_mol(cmol2, view=view, color=\"pink\")\n",
    "view.show()"
   ]
  }
 ],
 "metadata": {
  "interpreter": {
   "hash": "2170310d8da5d5d0ced416f072c764c73705bd667e97df15cd83672f4e754559"
  },
  "kernelspec": {
   "display_name": "Python 3",
   "language": "python",
   "name": "python3"
  },
  "language_info": {
   "codemirror_mode": {
    "name": "ipython",
    "version": 3
   },
   "file_extension": ".py",
   "mimetype": "text/x-python",
   "name": "python",
   "nbconvert_exporter": "python",
   "pygments_lexer": "ipython3",
   "version": "3.7.10"
  }
 },
 "nbformat": 4,
 "nbformat_minor": 2
}
